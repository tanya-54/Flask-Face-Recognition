{
 "cells": [
  {
   "cell_type": "code",
   "execution_count": 1,
   "id": "e5d8cc44-3973-46b0-9f29-03b6295a66a5",
   "metadata": {},
   "outputs": [],
   "source": [
    "import cv2"
   ]
  },
  {
   "cell_type": "code",
   "execution_count": 2,
   "id": "40f14e6e-e185-4e8f-ac12-6be1b327a171",
   "metadata": {},
   "outputs": [],
   "source": [
    "face_cap= cv2.CascadeClassifier(\"C:/Users/Dell/AppData/Local/Programs/Python/Python311/Lib/site-packages/cv2/data/haarcascade_frontalface_default.xml\")\n",
    "video_cap= cv2.VideoCapture(0)\n",
    "while True:\n",
    "    ret , video_data =video_cap.read()\n",
    "    col=cv2.cvtColor(video_data,cv2.COLOR_BGR2GRAY)\n",
    "    faces= face_cap.detectMultiScale(\n",
    "        col,\n",
    "        scaleFactor=1.1,\n",
    "        minNeighbors=5,\n",
    "        minSize=(30,30),\n",
    "        flags=cv2.CASCADE_SCALE_IMAGE\n",
    "    )\n",
    "    for (x,y,w,h) in faces:\n",
    "        cv2.rectangle(video_data,(x,y),(x+w,y+h),(0,225),2)\n",
    "    cv2.imshow(\"video_live\",video_data)\n",
    "    if cv2.waitKey(10) == ord(\"a\"):\n",
    "         break\n",
    "video_cap.release()\n",
    "\n",
    "\n",
    "\n"
   ]
  },
  {
   "cell_type": "code",
   "execution_count": 2,
   "id": "1f4516da-5d5d-4a29-9bb0-b305761c0ad7",
   "metadata": {},
   "outputs": [],
   "source": [
    "# video_cap= cv2.VideoCapture(0)\n",
    "# while True:\n",
    "#     ret , video_data =video_cap.read()\n",
    "#     cv2.imshow(\"video_live\",video_data)\n",
    "#     if cv2.waitKey(10) == ord(\"a\"):\n",
    "#          break\n",
    "# video_cap.release()\n",
    "    "
   ]
  },
  {
   "cell_type": "code",
   "execution_count": null,
   "id": "571b637f-20a9-4d11-ac07-f1dcdb82a692",
   "metadata": {},
   "outputs": [],
   "source": []
  },
  {
   "cell_type": "code",
   "execution_count": null,
   "id": "b85559fd-b696-4a0f-a5e3-83a21396b978",
   "metadata": {},
   "outputs": [],
   "source": []
  },
  {
   "cell_type": "code",
   "execution_count": null,
   "id": "f09e4053-419d-43b3-b39e-7499cafbbeca",
   "metadata": {},
   "outputs": [],
   "source": []
  },
  {
   "cell_type": "code",
   "execution_count": null,
   "id": "ac99c4dc-6113-47a1-adba-cca94ae6312e",
   "metadata": {},
   "outputs": [],
   "source": []
  },
  {
   "cell_type": "code",
   "execution_count": null,
   "id": "120f2ef8-412c-43d2-9ca7-978f958b3222",
   "metadata": {},
   "outputs": [],
   "source": []
  },
  {
   "cell_type": "code",
   "execution_count": null,
   "id": "3715629b-7cc1-4e96-8454-94ad364ba505",
   "metadata": {},
   "outputs": [],
   "source": []
  }
 ],
 "metadata": {
  "kernelspec": {
   "display_name": "Python 3 (ipykernel)",
   "language": "python",
   "name": "python3"
  },
  "language_info": {
   "codemirror_mode": {
    "name": "ipython",
    "version": 3
   },
   "file_extension": ".py",
   "mimetype": "text/x-python",
   "name": "python",
   "nbconvert_exporter": "python",
   "pygments_lexer": "ipython3",
   "version": "3.12.0"
  }
 },
 "nbformat": 4,
 "nbformat_minor": 5
}
